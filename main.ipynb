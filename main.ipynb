{
 "cells": [
  {
   "cell_type": "code",
   "execution_count": 1,
   "metadata": {},
   "outputs": [],
   "source": [
    "import gspread\n",
    "from google.oauth2.service_account import Credentials\n",
    "import pandas as pd\n",
    "import random\n",
    "from methods import enforce_gender_rule, enter_data , capitalize_first_letter, quiz"
   ]
  },
  {
   "cell_type": "code",
   "execution_count": 2,
   "metadata": {},
   "outputs": [],
   "source": [
    "# Path to the JSON file with the service account credentials\n",
    "creds_file = r\"C:\\Users\\tarun\\OneDrive\\Coding\\credentials\\vocabnotecreds.json\"\n",
    "\n",
    "# Define the scope\n",
    "scope = [\n",
    "    'https://www.googleapis.com/auth/spreadsheets',\n",
    "    'https://www.googleapis.com/auth/drive'\n",
    "]\n",
    "\n",
    "# Authenticate with the service account\n",
    "creds = Credentials.from_service_account_file(creds_file, scopes=scope)\n",
    "\n",
    "# Connect to Google Sheets\n",
    "client = gspread.authorize(creds)\n",
    "\n",
    "# Open the Google Sheet by title\n",
    "sheet = client.open('German words and meanings').sheet1\n",
    "\n",
    "# Read data from the sheet\n",
    "data = sheet.get_all_records()\n",
    "#print(data)\n",
    "\n",
    "df = pd.DataFrame(data)\n",
    "#df.head(10)"
   ]
  },
  {
   "cell_type": "code",
   "execution_count": 3,
   "metadata": {},
   "outputs": [
    {
     "name": "stdout",
     "output_type": "stream",
     "text": [
      "Incorrect. The correct meaning of Sollen is 'To shall'.\n",
      "Correct!\n",
      "Your final score is 1 out of 2\n"
     ]
    }
   ],
   "source": [
    "if __name__ == \"__main__\":\n",
    "    choice=int(input(\"what do u want to do 1. enter data, 2. quiz\"))\n",
    "\n",
    "    if choice==1:\n",
    "        enter_data(sheet)\n",
    "    else:\n",
    "        num_questions = int(input(\"Enter the number of questions: \").strip())\n",
    "        quiz(data, num_questions=num_questions)"
   ]
  }
 ],
 "metadata": {
  "kernelspec": {
   "display_name": "Python 3",
   "language": "python",
   "name": "python3"
  },
  "language_info": {
   "codemirror_mode": {
    "name": "ipython",
    "version": 3
   },
   "file_extension": ".py",
   "mimetype": "text/x-python",
   "name": "python",
   "nbconvert_exporter": "python",
   "pygments_lexer": "ipython3",
   "version": "3.12.0"
  }
 },
 "nbformat": 4,
 "nbformat_minor": 2
}
